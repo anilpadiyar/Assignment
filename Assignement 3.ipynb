{
 "cells": [
  {
   "cell_type": "markdown",
   "id": "2184dd81",
   "metadata": {},
   "source": [
    "1. Why are functions advantageous to have in your programs?\n",
    "Reusability,Less number of code, easy to analyze etc\n"
   ]
  },
  {
   "cell_type": "code",
   "execution_count": null,
   "id": "6ac2645e",
   "metadata": {},
   "outputs": [],
   "source": [
    "2. When does the code in a function run: when it's specified or when it's called?\n",
    "When it is called\n"
   ]
  },
  {
   "cell_type": "code",
   "execution_count": null,
   "id": "72174c23",
   "metadata": {},
   "outputs": [],
   "source": [
    "3. What statement creates a function?\n",
    "def clause\n"
   ]
  },
  {
   "cell_type": "code",
   "execution_count": null,
   "id": "bae34552",
   "metadata": {},
   "outputs": [],
   "source": [
    "4. What is the difference between a function and a function call?\n",
    "Function is containing statement that can perform some task. \n",
    "Function call is used to invoke those statement which are written in function \n"
   ]
  },
  {
   "cell_type": "code",
   "execution_count": null,
   "id": "270412f3",
   "metadata": {},
   "outputs": [],
   "source": [
    "5. How many global scopes are there in a Python program? How many local scopes?\n",
    "Only one global scope , as much function in the program we can have local scope as same as function\n"
   ]
  },
  {
   "cell_type": "code",
   "execution_count": null,
   "id": "e7af5eee",
   "metadata": {},
   "outputs": [],
   "source": [
    "6. What happens to variables in a local scope when the function call returns?\n",
    "Local scope destroy as function end\n"
   ]
  },
  {
   "cell_type": "code",
   "execution_count": null,
   "id": "e77c8651",
   "metadata": {},
   "outputs": [],
   "source": [
    "7. What is the concept of a return value? Is it possible to have a return value in an expression?\n",
    "Return value is an Output of function can be expression\n"
   ]
  },
  {
   "cell_type": "code",
   "execution_count": null,
   "id": "f65574a4",
   "metadata": {},
   "outputs": [],
   "source": [
    "8. If a function does not have a return statement, what is the return value of a call to that function?\n",
    "Nothing or none can be return\n"
   ]
  },
  {
   "cell_type": "code",
   "execution_count": null,
   "id": "5f8798c7",
   "metadata": {},
   "outputs": [],
   "source": [
    "9. How do you make a function variable refer to the global variable?\n",
    "By using global statement\n"
   ]
  },
  {
   "cell_type": "code",
   "execution_count": null,
   "id": "507b76da",
   "metadata": {},
   "outputs": [],
   "source": [
    "10. What is the data type of None?\n",
    "None TYPE"
   ]
  },
  {
   "cell_type": "code",
   "execution_count": null,
   "id": "91e721fa",
   "metadata": {},
   "outputs": [],
   "source": [
    "11. What does the sentence import areallyourpetsnamederic do?\n",
    "Import statement can imports a module named areallyourpetsnamederic"
   ]
  },
  {
   "cell_type": "code",
   "execution_count": null,
   "id": "80de8983",
   "metadata": {},
   "outputs": [],
   "source": [
    "12. If you had a bacon() feature in a spam module, what would you call it after importing spam?\n",
    "This function can be called with spam.bacon()"
   ]
  },
  {
   "cell_type": "code",
   "execution_count": null,
   "id": "4555f933",
   "metadata": {},
   "outputs": [],
   "source": [
    "13. What can you do to save a programme from crashing if it encounters an error?\n",
    "By using try clause"
   ]
  },
  {
   "cell_type": "code",
   "execution_count": null,
   "id": "b3b0e7c1",
   "metadata": {},
   "outputs": [],
   "source": [
    "14. What is the purpose of the try clause? What is the purpose of the except clause?\n",
    "Try clause would be monitor error and except clause will handle the error "
   ]
  }
 ],
 "metadata": {
  "kernelspec": {
   "display_name": "Python 3 (ipykernel)",
   "language": "python",
   "name": "python3"
  },
  "language_info": {
   "codemirror_mode": {
    "name": "ipython",
    "version": 3
   },
   "file_extension": ".py",
   "mimetype": "text/x-python",
   "name": "python",
   "nbconvert_exporter": "python",
   "pygments_lexer": "ipython3",
   "version": "3.9.7"
  }
 },
 "nbformat": 4,
 "nbformat_minor": 5
}
