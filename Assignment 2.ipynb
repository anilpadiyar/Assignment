{
 "cells": [
  {
   "cell_type": "code",
   "execution_count": null,
   "id": "6b7a43c8",
   "metadata": {},
   "outputs": [],
   "source": [
    "1.What are the two values of the Boolean data type? How do you write them?\n",
    "True \n",
    "False"
   ]
  },
  {
   "cell_type": "code",
   "execution_count": null,
   "id": "b6632327",
   "metadata": {},
   "outputs": [],
   "source": [
    "2. What are the three different types of Boolean operators?\n",
    "And , OR , Not"
   ]
  },
  {
   "cell_type": "code",
   "execution_count": null,
   "id": "57686e3a",
   "metadata": {},
   "outputs": [],
   "source": [
    "3. Make a list of each Boolean operator's truth tables (i.e. every possible combination of Boolean values for the operator and what it evaluate\n",
    "True and True - True\n",
    "True and False - False\n",
    "False and True   -False\n",
    "False and False - False\n",
    "True or True -True\n",
    "True or False -True\n",
    "False or True - True\n",
    "False or False - False"
   ]
  },
  {
   "cell_type": "code",
   "execution_count": null,
   "id": "e6402215",
   "metadata": {},
   "outputs": [],
   "source": [
    "4. What are the values of the following expressions?\n",
    "(5 > 4) and (3 == 5) \n",
    "False\n",
    "not (5 > 4)  \n",
    "False\n",
    "(5 > 4) or (3 == 5) \n",
    "True\n",
    "not ((5 > 4) or (3 == 5))  \n",
    "False\n",
    "(True and True) and (True == False) \n",
    "False\n",
    "(not False) or (not True) \n",
    "True"
   ]
  },
  {
   "cell_type": "code",
   "execution_count": null,
   "id": "e6e7dcef",
   "metadata": {},
   "outputs": [],
   "source": [
    "5. What are the six comparison operators?\n",
    "< \n",
    ">\n",
    "=\n",
    ">=\n",
    "<=\n",
    "!="
   ]
  },
  {
   "cell_type": "code",
   "execution_count": null,
   "id": "0ece66c6",
   "metadata": {},
   "outputs": [],
   "source": [
    "6. How do you tell the difference between the equal to and assignment operators?Describe a condition and when you would use one.\n",
    "Assignment operator is denoted with( =)  and used to assign value to variable\n",
    " Name = ‘David’\n",
    "Equal to is denoted with (==)  and  used to perform comparison \n",
    "If name ==’David’\n",
    "\n",
    "7. Identify the three blocks in this code:\n",
    "spam = 0\n",
    "if spam == 10:\n",
    "    print('eggs')\n",
    "    if spam > 5:\n",
    "        print('bacon')\n",
    "    else:\n",
    "        print('ham')\n",
    "    print('spam')\n",
    "    print('spam')"
   ]
  },
  {
   "cell_type": "code",
   "execution_count": null,
   "id": "45c4ab95",
   "metadata": {},
   "outputs": [],
   "source": [
    "8. Write code that prints Hello if 1 is stored in spam, prints Howdy if 2 is stored in spam, and prints Greetings! if anything else is stored in spam.\n",
    "spam = int(input(\"enter the value: \"))\n",
    "if spam == 1:\n",
    "    print('Hello')\n",
    "elif spam == 2:\n",
    "    print('Howdy')\n",
    "else:\n",
    "    print('Greeting')\n",
    "\n",
    "9.If your programme is stuck in an endless loop, what keys you’ll press?\n",
    "CTRL+C\n"
   ]
  },
  {
   "cell_type": "code",
   "execution_count": null,
   "id": "9c7676a9",
   "metadata": {},
   "outputs": [],
   "source": [
    "10. How can you tell the difference between break and continue?\n",
    "Break – will come out completely out from the loop \n",
    "Continue – will pass the control to loop for next iteration\n",
    "for i in 'Ineuron':\n",
    "    if i =='r':\n",
    "        break  ## break will go to print (break)\n",
    "    if i == 'n':\n",
    "        continue # conitune would go to for loop for next iteration\n",
    "        print(i)\n",
    "print('Break')\n",
    "11. In a for loop, what is the difference between range(10), range(0, 10), and range(0, 10, 1)?\n",
    "There is no difference for range function \n",
    "range(start point, end point, jump)\n",
    "range(10) – default start point is 0 and jump is 1\n",
    "range(0 ,10) –start point is 0 and default jump is 1\n",
    "range(0 ,10,1) –start point is 0 and end point is 10 and jump is 1\n",
    "\n"
   ]
  },
  {
   "cell_type": "code",
   "execution_count": null,
   "id": "40542125",
   "metadata": {},
   "outputs": [],
   "source": [
    "12. Write a short program that prints the numbers 1 to 10 using a for loop. Then write an equivalent program that prints the numbers 1 to 10 using a while loop.\n",
    "For Loop\n",
    "for i in range(1,11):\n",
    "    print(i)\n",
    "\n",
    "while loop\n",
    "i =1\n",
    "while i<=10:\n",
    "    print(i)\n",
    "    i +=1\n",
    "\n",
    "13. If you had a function named bacon() inside a module named spam, how would you call it after importing spam?\n",
    "Spam.bacon()\n"
   ]
  },
  {
   "cell_type": "code",
   "execution_count": null,
   "id": "20d3d884",
   "metadata": {},
   "outputs": [],
   "source": []
  },
  {
   "cell_type": "code",
   "execution_count": null,
   "id": "0ad37099",
   "metadata": {},
   "outputs": [],
   "source": []
  },
  {
   "cell_type": "code",
   "execution_count": null,
   "id": "11f88a17",
   "metadata": {},
   "outputs": [],
   "source": []
  },
  {
   "cell_type": "code",
   "execution_count": null,
   "id": "40860c0b",
   "metadata": {},
   "outputs": [],
   "source": []
  },
  {
   "cell_type": "code",
   "execution_count": null,
   "id": "1744e13e",
   "metadata": {},
   "outputs": [],
   "source": []
  },
  {
   "cell_type": "code",
   "execution_count": null,
   "id": "09905923",
   "metadata": {},
   "outputs": [],
   "source": []
  }
 ],
 "metadata": {
  "kernelspec": {
   "display_name": "Python 3 (ipykernel)",
   "language": "python",
   "name": "python3"
  },
  "language_info": {
   "codemirror_mode": {
    "name": "ipython",
    "version": 3
   },
   "file_extension": ".py",
   "mimetype": "text/x-python",
   "name": "python",
   "nbconvert_exporter": "python",
   "pygments_lexer": "ipython3",
   "version": "3.9.7"
  }
 },
 "nbformat": 4,
 "nbformat_minor": 5
}
