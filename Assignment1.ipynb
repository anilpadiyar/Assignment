{
 "cells": [
  {
   "cell_type": "markdown",
   "id": "b9e4fcc5",
   "metadata": {},
   "source": [
    "1. In the below elements which of them are values or an expression? eg:- values can be\n",
    "integer or string and expressions will be mathematical operators.\n",
    "*       - Mathematical operators (Multiplication)\n",
    "'hello' - String defined that can be stored in variable \n",
    "-87.8   - Float  value\n",
    "-       - Mathematical operators (Subratcation)\n",
    "/       - Mathematical operators (Division)\n",
    "+       - Mathematical operators (Addition)\n",
    "6       - Integer Value"
   ]
  },
  {
   "cell_type": "markdown",
   "id": "babd3f4b",
   "metadata": {},
   "source": [
    "2. What is the difference between string and variable?\n",
    "Variable- Name of the place where any data can be stored.\n",
    "String - String is data type thats value can be defined in single or doubled quote"
   ]
  },
  {
   "cell_type": "markdown",
   "id": "ab46e837",
   "metadata": {},
   "source": [
    "3. Describe three different data types.\n",
    "int-   Numeric data can be (24 or -24)\n",
    "str-   Alphanumeric data (\"Python Ver 3.9\")\n",
    "Float- Floating point data (24.3 or -45.9)\n",
    "Bool-  True and False"
   ]
  },
  {
   "cell_type": "markdown",
   "id": "a33e75a0",
   "metadata": {},
   "source": [
    "4. What is an expression made up of? What do all expressions do?\n",
    "expersion can be made up mathematics operator with operand or variable or default value\n",
    "Expersion can do calcuation or any string operation like concat, substring etc"
   ]
  },
  {
   "cell_type": "markdown",
   "id": "9eebb829",
   "metadata": {},
   "source": [
    "5. This assignment statements, like spam = 10. What is the difference between an\n",
    "expression and a statement?\n",
    "expression can do some operation and return new ouput- (sum, subrtact etc)\n",
    "statement can declartion of variable cant return ouput"
   ]
  },
  {
   "cell_type": "markdown",
   "id": "7a60cd92",
   "metadata": {},
   "source": [
    "#6. After running the following code, what does the variable bacon contain?\n",
    "bacon = 22\n",
    "bacon + 1\n",
    "\n",
    "#bacon would be 23"
   ]
  },
  {
   "cell_type": "markdown",
   "id": "a71381c7",
   "metadata": {},
   "source": [
    "#7. What should the values of the following two terms be?\n",
    "\"spam\" + \"spamspam\"\n",
    "\"spam\" * 3\n",
    "#Both would 'spamspamspam'"
   ]
  },
  {
   "cell_type": "markdown",
   "id": "308d3a2d",
   "metadata": {},
   "source": [
    "8. Why is eggs a valid variable name while 100 is invalid?\n",
    "Variable should be started form alphabet or some special characters (_)"
   ]
  },
  {
   "cell_type": "markdown",
   "id": "e2279d7d",
   "metadata": {},
   "source": [
    "9. What three functions can be used to get the integer, floating-point number, or string\n",
    "version of a value?\n",
    "int()  to get integer \n",
    "float() to get float\n",
    "str() to get string"
   ]
  },
  {
   "cell_type": "markdown",
   "id": "e8f8d268",
   "metadata": {},
   "source": [
    "10. Why does this expression cause an error? How can you fix it?\n",
    "\n",
    "'I have eaten' + 99 + 'burritos'\n",
    "\n",
    "in above expression concatenating character string with integer value, it will give an type cast error.\n",
    "'I have eaten ' + str(99) + ' burritos'"
   ]
  }
 ],
 "metadata": {
  "kernelspec": {
   "display_name": "Python 3 (ipykernel)",
   "language": "python",
   "name": "python3"
  },
  "language_info": {
   "codemirror_mode": {
    "name": "ipython",
    "version": 3
   },
   "file_extension": ".py",
   "mimetype": "text/x-python",
   "name": "python",
   "nbconvert_exporter": "python",
   "pygments_lexer": "ipython3",
   "version": "3.9.7"
  }
 },
 "nbformat": 4,
 "nbformat_minor": 5
}
